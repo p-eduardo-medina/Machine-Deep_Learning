{
  "nbformat": 4,
  "nbformat_minor": 0,
  "metadata": {
    "colab": {
      "provenance": [],
      "authorship_tag": "ABX9TyOoK2wiRmwj8nRjX/QdF+UD",
      "include_colab_link": true
    },
    "kernelspec": {
      "name": "python3",
      "display_name": "Python 3"
    },
    "language_info": {
      "name": "python"
    }
  },
  "cells": [
    {
      "cell_type": "markdown",
      "metadata": {
        "id": "view-in-github",
        "colab_type": "text"
      },
      "source": [
        "<a href=\"https://colab.research.google.com/github/p-eduardo-medina/Machine-Deep_Learning/blob/main/Pytorch_FirstModel.ipynb\" target=\"_parent\"><img src=\"https://colab.research.google.com/assets/colab-badge.svg\" alt=\"Open In Colab\"/></a>"
      ]
    },
    {
      "cell_type": "markdown",
      "source": [
        "### Pytorch WorkFlow"
      ],
      "metadata": {
        "id": "AUEBR1NL-5YJ"
      }
    },
    {
      "cell_type": "markdown",
      "source": [],
      "metadata": {
        "id": "3r8g0_P6_n-S"
      }
    },
    {
      "cell_type": "code",
      "source": [
        "what_were_covering = {1:'data (prepare and load)',\n",
        "                      2:'build model',\n",
        "                      3:'fitting the model to data (training)',\n",
        "                      4:'making predictions and evaluating a model (inferences)',\n",
        "                      5:'saving and loading a model',\n",
        "                      6:'putting it all together'\n",
        "                      }\n",
        "what_were_covering"
      ],
      "metadata": {
        "colab": {
          "base_uri": "https://localhost:8080/"
        },
        "id": "PmBqQZTw_ygY",
        "outputId": "37ec4f07-345c-48b1-fa08-62ec43780979"
      },
      "execution_count": null,
      "outputs": [
        {
          "output_type": "execute_result",
          "data": {
            "text/plain": [
              "{1: 'data (prepare and load)',\n",
              " 2: 'build model',\n",
              " 3: 'fitting the model to data (training)',\n",
              " 4: 'making predictions and evaluating a model (inferences)',\n",
              " 5: 'saving and loading a model',\n",
              " 6: 'putting it all together'}"
            ]
          },
          "metadata": {},
          "execution_count": 1
        }
      ]
    },
    {
      "cell_type": "code",
      "source": [
        "import torch\n",
        "from torch import nn # Contains all of pytorch's building blocks for Neuronal Networks\n",
        "import pandas as pd\n",
        "import matplotlib.pyplot as plt\n",
        "import numpy as np\n",
        "\n",
        "torch.__version__"
      ],
      "metadata": {
        "colab": {
          "base_uri": "https://localhost:8080/",
          "height": 36
        },
        "id": "zVK8ow1AAj67",
        "outputId": "3852a212-7751-4c75-adf0-5907e3216da2"
      },
      "execution_count": null,
      "outputs": [
        {
          "output_type": "execute_result",
          "data": {
            "text/plain": [
              "'2.5.1+cu124'"
            ],
            "application/vnd.google.colaboratory.intrinsic+json": {
              "type": "string"
            }
          },
          "metadata": {},
          "execution_count": 2
        }
      ]
    },
    {
      "cell_type": "markdown",
      "source": [
        "### Data preparing and loading\n",
        "\n",
        "Machine Learning is a game of two parts:\n",
        "1. Get data into a numerical representation.\n",
        "2. Build a model to learn patterns in that numerical representation.\n",
        "\n",
        "# To showcase this, let's create some \"knows\" data using the linear regression\n",
        "# formula. Y = f(X,$β$) + e\n"
      ],
      "metadata": {
        "id": "6fYKY5QJBWvh"
      }
    },
    {
      "cell_type": "code",
      "source": [
        "#Create a know parmeter\n",
        "weight = 0.7\n",
        "bias = 0.3\n",
        "\n",
        "#Create some data here\n",
        "start = 0\n",
        "end = 1\n",
        "step = 0.02\n",
        "X_know = torch.arange(start,end,step).unsqueeze(dim=1)\n",
        "y_know = weight * X_know + bias\n",
        "\n",
        "X_know.shape,X_know[:10],y_know[:10], len(X_know), len(y_know)"
      ],
      "metadata": {
        "colab": {
          "base_uri": "https://localhost:8080/"
        },
        "id": "Cd8oiaOpBLrw",
        "outputId": "33915013-eab5-4d83-b9ce-d7354d647c0c"
      },
      "execution_count": null,
      "outputs": [
        {
          "output_type": "execute_result",
          "data": {
            "text/plain": [
              "(torch.Size([50, 1]),\n",
              " tensor([[0.0000],\n",
              "         [0.0200],\n",
              "         [0.0400],\n",
              "         [0.0600],\n",
              "         [0.0800],\n",
              "         [0.1000],\n",
              "         [0.1200],\n",
              "         [0.1400],\n",
              "         [0.1600],\n",
              "         [0.1800]]),\n",
              " tensor([[0.3000],\n",
              "         [0.3140],\n",
              "         [0.3280],\n",
              "         [0.3420],\n",
              "         [0.3560],\n",
              "         [0.3700],\n",
              "         [0.3840],\n",
              "         [0.3980],\n",
              "         [0.4120],\n",
              "         [0.4260]]),\n",
              " 50,\n",
              " 50)"
            ]
          },
          "metadata": {},
          "execution_count": 3
        }
      ]
    },
    {
      "cell_type": "markdown",
      "source": [
        "###Splitting  data into training and test sets\n",
        "One of the most important concepts in machin learning in general.\n",
        "\n"
      ],
      "metadata": {
        "id": "8g5Fw5fDEa2s"
      }
    },
    {
      "cell_type": "code",
      "source": [
        " #Create a train/test split\n",
        "train_split = int(0.8 * len(X_know)) #80% of the data\n",
        "train_split\n",
        "X_train, y_train = X_know[:train_split], y_know[:train_split]#Train\n",
        "\n",
        "X_test, y_test = X_know[train_split:], y_know[train_split:]#Test\n",
        "\n",
        "len(X_train), len(y_train), len(X_test), len(y_test)#X -> features, Y -> labels"
      ],
      "metadata": {
        "colab": {
          "base_uri": "https://localhost:8080/"
        },
        "id": "-7li1aonBLpP",
        "outputId": "04e047b4-5103-4a29-a11b-58048f43f3be"
      },
      "execution_count": null,
      "outputs": [
        {
          "output_type": "execute_result",
          "data": {
            "text/plain": [
              "(40, 40, 10, 10)"
            ]
          },
          "metadata": {},
          "execution_count": 4
        }
      ]
    },
    {
      "cell_type": "markdown",
      "source": [
        "How might we better visualize our data?"
      ],
      "metadata": {
        "id": "Q88WbQ3lH8Ei"
      }
    },
    {
      "cell_type": "code",
      "source": [
        "\n",
        "def plot_predictions(train_data=X_train,\n",
        "                    train_labels=y_train,\n",
        "                    test_data=X_test,\n",
        "                    test_labels=y_test,\n",
        "                    predictions=None):\n",
        "  \"\"\"\n",
        "  Plots training data, test data and compares predictions.\n",
        "  \"\"\"\n",
        "  plt.figure(figsize=(10,7))\n",
        "\n",
        "  #Plot training data in blue\n",
        "  plt.scatter(train_data, train_labels, c=\"b\", s=4, label=\"Training data\")\n",
        "\n",
        "  #Plot test data in green\n",
        "  plt.scatter(test_data, test_labels, c=\"g\", s=4, label=\"Testing data\")\n",
        "\n",
        "  #Are there predictions?\n",
        "  if predictions is not None:\n",
        "    #Plot predictions in red (predictions in test data)\n",
        "    plt.scatter(test_data, predictions, c=\"r\", s=4, label=\"Predictions\")\n",
        "  #Show legends\n",
        "  plt.legend(prop={\"size\":14})\n",
        "  plt.grid();"
      ],
      "metadata": {
        "id": "1ouFeq78BLnC"
      },
      "execution_count": null,
      "outputs": []
    },
    {
      "cell_type": "code",
      "source": [
        "plot_predictions()"
      ],
      "metadata": {
        "colab": {
          "base_uri": "https://localhost:8080/",
          "height": 523
        },
        "id": "oiWShR8TBLkg",
        "outputId": "1d5fcc26-374f-4f70-e1d3-06fba6cb87ba"
      },
      "execution_count": null,
      "outputs": [
        {
          "output_type": "display_data",
          "data": {
            "text/plain": [
              "<Figure size 1000x700 with 1 Axes>"
            ],
            "image/png": "[encoded data removed]"
          },
          "metadata": {}
        }
      ]
    },
    {
      "cell_type": "markdown",
      "source": [
        "### Buil a model\n",
        "\n",
        "1. Gradiant descent\n",
        "2. Backpropagation (forward propagation)"
      ],
      "metadata": {
        "id": "vVF5FFQTKIJC"
      }
    },
    {
      "cell_type": "code",
      "source": [
        "from torch import nn\n",
        "#CREATE A LINEAR REGRESSION MODEL CLASS\n",
        "class LinearRegressionModel(nn.Module):\n",
        "  \"\"\"\n",
        "  LINEAR REGRESSION MODEL CLASS\n",
        "  \"\"\"\n",
        "  def __init__(self):\n",
        "    super().__init__()\n",
        "    #Use nn.Linear()\n",
        "    self.weights = nn.Parameter(torch.randn(1,\n",
        "                                            requires_grad=True, #Requieres gradient\n",
        "                                            dtype=torch.float)) #Datatype\n",
        "    self.bias = nn.Parameter(torch.randn(1,\n",
        "                                         requires_grad=True, #Requieres gradient\n",
        "                                         dtype=torch.float)) #Datatype\n",
        "    #self.linear_layer = nn.Linear(in_features=1,\n",
        "    #                              out_features=1)\n",
        "    #Methodes section in class\n",
        "    #Forward methodes (métodos de avance) to define the computation in the model\n",
        "  def forward(self, x: torch.Tensor) -> torch.Tensor: # <- 'x' is the input data\n",
        "    return self.weights * x + self.bias #This is the liear regression formula\n",
        "\n",
        "\n",
        "\n",
        "\n",
        "\n",
        "\n"
      ],
      "metadata": {
        "id": "gXaeA0s0J65D"
      },
      "execution_count": null,
      "outputs": []
    },
    {
      "cell_type": "markdown",
      "source": [
        "<h2>Usefull information about function in class<h2>\n",
        "-> def forward(self, x: torch.Tensor) -> torch.Tensor: This line defines the function named forward.\n",
        "\n",
        "-> def: The keyword used to define a function in Python.\n",
        "\n",
        "-> forward: The name of the function. It's a convention in PyTorch to name the function that performs the forward pass of your model forward.\n",
        "\n",
        "-> self: This refers to the instance of the class where this function is defined (typically a subclass of nn.Module for neural networks). It allows you to access attributes (like weights and biases) of your model.\n",
        "\n",
        "-> x: torch.Tensor: This specifies that the function expects an input named x, and it should be a PyTorch tensor (torch.Tensor). This input usually represents the data your model is processing.\n",
        "\n",
        "-> // -> torch.Tensor: This part is a type hint, indicating that the function is expected to return a PyTorch tensor (torch.Tensor). This is the output of your model's forward pass.\n",
        "Inside the forward Function:\n",
        "\n",
        "<h3> Calculations using self and x to produce output: This is where you define the actual computations of your model. You'll use the input x, the model's attributes (accessed via self), and PyTorch operations to calculate the output.\n",
        "return output: The function returns the computed output, which is typically the result of passing the input through the layers of your neural network.<h3>"
      ],
      "metadata": {
        "id": "hzXX-tmhPm-i"
      }
    },
    {
      "cell_type": "markdown",
      "source": [
        "### Pytorch model building essentials\n",
        "\n",
        "* Torch.nn -> Contains all of the building for computational graphs\n",
        "* Troch.nn.Parameter -> what parameters should our model try and learn\n",
        "* torch.nn.Module -> the base class for all nn modules.\n",
        "* torch.optim ->  the optimizer in Python lives\n",
        "\n",
        "## Checking the content of our Pytorch model"
      ],
      "metadata": {
        "id": "knkYiHji1KXM"
      }
    },
    {
      "cell_type": "code",
      "source": [
        "#Create a random seed\n",
        "#torch.manual_seed(42)\n",
        "\n",
        "#Create an instance of the model (subclass of nn.Module)\n",
        "model_0 = LinearRegressionModel()\n",
        "model_0.parameters()\n",
        "#Check the model parameters\n",
        "list(model_0.parameters()), model_0.state_dict()"
      ],
      "metadata": {
        "id": "vFOEC1BOJ62e",
        "colab": {
          "base_uri": "https://localhost:8080/"
        },
        "outputId": "50adaff8-ee80-42eb-b519-cc70592e4d28"
      },
      "execution_count": null,
      "outputs": [
        {
          "output_type": "execute_result",
          "data": {
            "text/plain": [
              "([Parameter containing:\n",
              "  tensor([-0.7703], requires_grad=True),\n",
              "  Parameter containing:\n",
              "  tensor([-0.9587], requires_grad=True)],\n",
              " OrderedDict([('weights', tensor([-0.7703])), ('bias', tensor([-0.9587]))]))"
            ]
          },
          "metadata": {},
          "execution_count": 8
        }
      ]
    },
    {
      "cell_type": "markdown",
      "source": [
        "### Making predictions using 'torch.inference_mode()'"
      ],
      "metadata": {
        "id": "skIZsg8C5eby"
      }
    },
    {
      "cell_type": "markdown",
      "source": [],
      "metadata": {
        "id": "n5YDufJ-5UhY"
      }
    },
    {
      "cell_type": "code",
      "source": [
        "y_preds = model_0(X_test)\n",
        "y_preds"
      ],
      "metadata": {
        "colab": {
          "base_uri": "https://localhost:8080/"
        },
        "id": "BljFCFcQ7lk5",
        "outputId": "e67d8177-e5b3-4e74-f666-f3d13896a003"
      },
      "execution_count": null,
      "outputs": [
        {
          "output_type": "execute_result",
          "data": {
            "text/plain": [
              "tensor([[-1.5749],\n",
              "        [-1.5903],\n",
              "        [-1.6058],\n",
              "        [-1.6212],\n",
              "        [-1.6366],\n",
              "        [-1.6520],\n",
              "        [-1.6674],\n",
              "        [-1.6828],\n",
              "        [-1.6982],\n",
              "        [-1.7136]], grad_fn=<AddBackward0>)"
            ]
          },
          "metadata": {},
          "execution_count": 9
        }
      ]
    },
    {
      "cell_type": "code",
      "source": [
        "#Make predictions with model\n",
        "with torch.inference_mode(): #\n",
        "  y_preds = model_0(X_test)\n",
        "\n",
        "##You can do something similar with torch.no_grad()\n",
        "#with torch.no_grad():\n",
        "#  y_preds = model_0(X_test)\n",
        "\n",
        "y_preds"
      ],
      "metadata": {
        "id": "SJOzbNu8J6z5",
        "colab": {
          "base_uri": "https://localhost:8080/"
        },
        "outputId": "e31dae8d-9db8-49b3-ec45-017a5f09f6b2"
      },
      "execution_count": null,
      "outputs": [
        {
          "output_type": "execute_result",
          "data": {
            "text/plain": [
              "tensor([[-1.5749],\n",
              "        [-1.5903],\n",
              "        [-1.6058],\n",
              "        [-1.6212],\n",
              "        [-1.6366],\n",
              "        [-1.6520],\n",
              "        [-1.6674],\n",
              "        [-1.6828],\n",
              "        [-1.6982],\n",
              "        [-1.7136]])"
            ]
          },
          "metadata": {},
          "execution_count": 10
        }
      ]
    },
    {
      "cell_type": "code",
      "source": [
        "y_test\n",
        "plot_predictions(predictions=y_preds)"
      ],
      "metadata": {
        "id": "QLeUBynyJ6xA",
        "colab": {
          "base_uri": "https://localhost:8080/",
          "height": 515
        },
        "outputId": "cb26d573-ec6d-4be1-bc41-98509882730f"
      },
      "execution_count": null,
      "outputs": [
        {
          "output_type": "display_data",
          "data": {
            "text/plain": [
              "<Figure size 1000x700 with 1 Axes>"
            ],
            "image/png": "[encoded data removed]"
          },
          "metadata": {}
        }
      ]
    },
    {
      "cell_type": "markdown",
      "source": [
        "## 3. Training model\n",
        "The whole idea of training is for a  model to move from some \"unknow\" parameters\n",
        "\n",
        "Or in other words from a poor representation of the data to a better representation of the data\n",
        "\n",
        "One way to measure how poor or wrong a module predictions are is to use a loss function.\n"
      ],
      "metadata": {
        "id": "SQkBfOHF9BAI"
      }
    },
    {
      "cell_type": "code",
      "source": [
        "list(model_0.parameters()), model_0.state_dict(), list(model_0.parameters())"
      ],
      "metadata": {
        "colab": {
          "base_uri": "https://localhost:8080/"
        },
        "id": "X6Vo1NBn8-lS",
        "outputId": "3e2e9f51-27d2-440b-ab5f-64cc4fcf7c55"
      },
      "execution_count": null,
      "outputs": [
        {
          "output_type": "execute_result",
          "data": {
            "text/plain": [
              "([Parameter containing:\n",
              "  tensor([-0.7703], requires_grad=True),\n",
              "  Parameter containing:\n",
              "  tensor([-0.9587], requires_grad=True)],\n",
              " OrderedDict([('weights', tensor([-0.7703])), ('bias', tensor([-0.9587]))]),\n",
              " [Parameter containing:\n",
              "  tensor([-0.7703], requires_grad=True),\n",
              "  Parameter containing:\n",
              "  tensor([-0.9587], requires_grad=True)])"
            ]
          },
          "metadata": {},
          "execution_count": 12
        }
      ]
    },
    {
      "cell_type": "code",
      "source": [
        "#Set up a loss function\n",
        "loss_fn = nn.L1Loss()\n",
        "\n",
        "#Set up an optimizer (Stochastic Gradiant Descent)\n",
        "optimizer = torch.optim.SGD(params=model_0.parameters(),\n",
        "                            lr=0.01)# learning rate -> important hiperparameter\n"
      ],
      "metadata": {
        "id": "S3c4MgB47W46"
      },
      "execution_count": null,
      "outputs": []
    },
    {
      "cell_type": "markdown",
      "source": [
        "###  Building a training loop in PyTorch\n",
        "\n",
        "A couple ofthings we need in a training Loop:\n",
        "1. Loop through the data.\n",
        "2. Forward parr (thisinvolves data moving throughour model's 'forward()' functions) tomake predictions on data - also calles forward propagation.\n",
        "3. Calculate the loss (compara forward pass predictions to ground truth labels)\n",
        "4. Optimezer zero grad\n",
        "5. Loss backward - move backwards through the network to calculate the gradients of each of the parameter of our model with respect to the loss (**backpropagation**).\n",
        "6. Optimizer step - use otmizer to adjust our model's parameter to try and improve the loss (**gradient descent**)\n",
        "\n"
      ],
      "metadata": {
        "id": "-tyodfwSzfBq"
      }
    },
    {
      "cell_type": "markdown",
      "source": [],
      "metadata": {
        "id": "9p-BUEzDzoGq"
      }
    },
    {
      "cell_type": "code",
      "source": [
        "#list(model_0.eval().parameters())\n",
        "with torch.no_grad():\n",
        "  list(model_0.parameters())\n"
      ],
      "metadata": {
        "id": "Pw9dUEqE40eO"
      },
      "execution_count": null,
      "outputs": []
    },
    {
      "cell_type": "code",
      "source": [
        "list(model_0.parameters())"
      ],
      "metadata": {
        "id": "t8QDwi2x49Pz",
        "colab": {
          "base_uri": "https://localhost:8080/"
        },
        "outputId": "a4d75733-851a-4fc7-8cd8-b1a63e657f4c"
      },
      "execution_count": null,
      "outputs": [
        {
          "output_type": "execute_result",
          "data": {
            "text/plain": [
              "[Parameter containing:\n",
              " tensor([-0.7703], requires_grad=True),\n",
              " Parameter containing:\n",
              " tensor([-0.9587], requires_grad=True)]"
            ]
          },
          "metadata": {},
          "execution_count": 15
        }
      ]
    },
    {
      "cell_type": "code",
      "source": [
        "#Built a loop for the learning process\n",
        "#An epoch is one loop through the data... (this is a hyperparameter because we've set it myself)\n",
        "\n",
        "#Track different values (seguimiento de...)\n",
        "epoch_count = []\n",
        "loss_values = []\n",
        "test_loss_values = []\n",
        "\n",
        "epochs = 500 #Define the number of loops\n",
        "\n",
        "\n",
        "###Training\n",
        "for epoch in range(epochs):\n",
        "  #Set the model to training mode\n",
        "  model_0.train() #train the model in PyTorch set all parameter that requiere gradient to requiere gradient\n",
        "\n",
        "  #1. Forward pass\n",
        "  y_pred = model_0(X_train)\n",
        "\n",
        "  #2. Calculate the loss\n",
        "  loss = loss_fn(y_pred, y_train)\n",
        "\n",
        "  #3. Optimizer zero grad\n",
        "  optimizer.zero_grad()\n",
        "\n",
        "  #4. Loss backward, backpropagation on the loss with respect to the parmeter of the model\n",
        "  loss.backward()\n",
        "\n",
        "  #5. Optimizer step\n",
        "  optimizer.step() #By default how the optimizer change will accumulate through the loop so we have to zero them above in step 3.\n",
        "\n",
        "  #Testing, Set the model to evaluation mode\n",
        "  model_0.eval() #Turns off different settings in themodel not needed for evaluation/Testing (dropout/batch norm layers)\n",
        "\n",
        "\n",
        "  with torch.inference_mode():#Turns off gradient tracking & a couple more\n",
        "  #with torch.no_grad():# yOU MAY ALSO SEE TORCH.NO_GRAD() IN OLDER PYTORCH code things behind the scenes\n",
        "    #1, Do the forward pass\n",
        "    test_pred = model_0(X_test)\n",
        "    #2. CALCULATE THE LOSS\n",
        "    test_loss = loss_fn(test_pred, y_test)\n",
        "\n",
        "  #Print out what's happening\n",
        "  if epoch % 20 == 0:\n",
        "    epoch_count.append(epoch)\n",
        "    loss_values.append(loss)\n",
        "    test_loss_values.append(test_loss)\n",
        "    print(f'Epoch: {epoch}| Loss: {loss} | Test loss: {test_loss}')\n",
        "    print(f'\\nModel state:\\n \\t{model_0.state_dict()} \\n')\n",
        "\n",
        "\n",
        "\n",
        "  #Print out model state_dict()\n",
        "  #print(f'\\nModel state:\\n \\t{model_0.state_dict()} \\n')\n",
        "\n",
        "#print(f\"Loss: {loss}\")\n",
        "#print(f'\\nModel state:\\n \\t{model_0.state_dict()} \\n')"
      ],
      "metadata": {
        "id": "hV62YGys7W3B",
        "colab": {
          "base_uri": "https://localhost:8080/"
        },
        "outputId": "f059e503-fb7e-4325-f897-58d70e999a18"
      },
      "execution_count": null,
      "outputs": [
        {
          "output_type": "stream",
          "name": "stdout",
          "text": [
            "Epoch: 0| Loss: 1.8321313858032227 | Test loss: 2.553797483444214\n",
            "\n",
            "Model state:\n",
            " \tOrderedDict([('weights', tensor([-0.7664])), ('bias', tensor([-0.9487]))]) \n",
            "\n",
            "Epoch: 20| Loss: 1.601711630821228 | Test loss: 2.2843775749206543\n",
            "\n",
            "Model state:\n",
            " \tOrderedDict([('weights', tensor([-0.6884])), ('bias', tensor([-0.7487]))]) \n",
            "\n",
            "Epoch: 40| Loss: 1.3712918758392334 | Test loss: 2.014958143234253\n",
            "\n",
            "Model state:\n",
            " \tOrderedDict([('weights', tensor([-0.6104])), ('bias', tensor([-0.5487]))]) \n",
            "\n",
            "Epoch: 60| Loss: 1.1408720016479492 | Test loss: 1.7455384731292725\n",
            "\n",
            "Model state:\n",
            " \tOrderedDict([('weights', tensor([-0.5324])), ('bias', tensor([-0.3487]))]) \n",
            "\n",
            "Epoch: 80| Loss: 0.9104522466659546 | Test loss: 1.476118564605713\n",
            "\n",
            "Model state:\n",
            " \tOrderedDict([('weights', tensor([-0.4544])), ('bias', tensor([-0.1487]))]) \n",
            "\n",
            "Epoch: 100| Loss: 0.6800323128700256 | Test loss: 1.2066987752914429\n",
            "\n",
            "Model state:\n",
            " \tOrderedDict([('weights', tensor([-0.3764])), ('bias', tensor([0.0513]))]) \n",
            "\n",
            "Epoch: 120| Loss: 0.4496123194694519 | Test loss: 0.9372789263725281\n",
            "\n",
            "Model state:\n",
            " \tOrderedDict([('weights', tensor([-0.2984])), ('bias', tensor([0.2513]))]) \n",
            "\n",
            "Epoch: 140| Loss: 0.2657961845397949 | Test loss: 0.697311282157898\n",
            "\n",
            "Model state:\n",
            " \tOrderedDict([('weights', tensor([-0.2214])), ('bias', tensor([0.4228]))]) \n",
            "\n",
            "Epoch: 160| Loss: 0.19172710180282593 | Test loss: 0.5402913093566895\n",
            "\n",
            "Model state:\n",
            " \tOrderedDict([('weights', tensor([-0.1534])), ('bias', tensor([0.5193]))]) \n",
            "\n",
            "Epoch: 180| Loss: 0.16370873153209686 | Test loss: 0.44472724199295044\n",
            "\n",
            "Model state:\n",
            " \tOrderedDict([('weights', tensor([-0.0978])), ('bias', tensor([0.5653]))]) \n",
            "\n",
            "Epoch: 200| Loss: 0.1509617120027542 | Test loss: 0.38652899861335754\n",
            "\n",
            "Model state:\n",
            " \tOrderedDict([('weights', tensor([-0.0515])), ('bias', tensor([0.5823]))]) \n",
            "\n",
            "Epoch: 220| Loss: 0.14257903397083282 | Test loss: 0.34892159700393677\n",
            "\n",
            "Model state:\n",
            " \tOrderedDict([('weights', tensor([-0.0109])), ('bias', tensor([0.5838]))]) \n",
            "\n",
            "Epoch: 240| Loss: 0.13550785183906555 | Test loss: 0.3262040615081787\n",
            "\n",
            "Model state:\n",
            " \tOrderedDict([('weights', tensor([0.0253])), ('bias', tensor([0.5743]))]) \n",
            "\n",
            "Epoch: 260| Loss: 0.12852782011032104 | Test loss: 0.30416449904441833\n",
            "\n",
            "Model state:\n",
            " \tOrderedDict([('weights', tensor([0.0613])), ('bias', tensor([0.5643]))]) \n",
            "\n",
            "Epoch: 280| Loss: 0.12157340347766876 | Test loss: 0.2834986746311188\n",
            "\n",
            "Model state:\n",
            " \tOrderedDict([('weights', tensor([0.0969])), ('bias', tensor([0.5533]))]) \n",
            "\n",
            "Epoch: 300| Loss: 0.11470197141170502 | Test loss: 0.2676409184932709\n",
            "\n",
            "Model state:\n",
            " \tOrderedDict([('weights', tensor([0.1310])), ('bias', tensor([0.5388]))]) \n",
            "\n",
            "Epoch: 320| Loss: 0.10783098638057709 | Test loss: 0.25109630823135376\n",
            "\n",
            "Model state:\n",
            " \tOrderedDict([('weights', tensor([0.1653])), ('bias', tensor([0.5248]))]) \n",
            "\n",
            "Epoch: 340| Loss: 0.10096617788076401 | Test loss: 0.23523855209350586\n",
            "\n",
            "Model state:\n",
            " \tOrderedDict([('weights', tensor([0.1994])), ('bias', tensor([0.5103]))]) \n",
            "\n",
            "Epoch: 360| Loss: 0.09409808367490768 | Test loss: 0.21938073635101318\n",
            "\n",
            "Model state:\n",
            " \tOrderedDict([('weights', tensor([0.2335])), ('bias', tensor([0.4958]))]) \n",
            "\n",
            "Epoch: 380| Loss: 0.08722460269927979 | Test loss: 0.20352259278297424\n",
            "\n",
            "Model state:\n",
            " \tOrderedDict([('weights', tensor([0.2676])), ('bias', tensor([0.4813]))]) \n",
            "\n"
          ]
        }
      ]
    },
    {
      "cell_type": "code",
      "source": [
        "#Turn tensor variables in numpy arrays\n",
        "#np.array(torch.tensor(loss_values).numpy()), test_loss_values"
      ],
      "metadata": {
        "id": "DATfbDH3TE4X"
      },
      "execution_count": null,
      "outputs": []
    },
    {
      "cell_type": "code",
      "source": [
        "plt.plot(epoch_count, np.array(torch.tensor(loss_values).numpy()), label='Training loss')\n",
        "plt.plot(epoch_count, test_loss_values, label='Test loss')\n",
        "plt.title('Training and test loss curves')\n",
        "plt.ylabel('Loss')\n",
        "plt.xlabel('Epochs')\n",
        "plt.grid()\n",
        "plt.legend();"
      ],
      "metadata": {
        "colab": {
          "base_uri": "https://localhost:8080/",
          "height": 472
        },
        "id": "9sZlfF9ESlse",
        "outputId": "d0dfbce5-c4b3-40a4-c24a-6a44fe3237c6"
      },
      "execution_count": null,
      "outputs": [
        {
          "output_type": "display_data",
          "data": {
            "text/plain": [
              "<Figure size 640x480 with 1 Axes>"
            ],
            "image/png": "[encoded data removed]"
          },
          "metadata": {}
        }
      ]
    },
    {
      "cell_type": "code",
      "source": [
        "with torch.inference_mode():\n",
        "  y_preds_new = model_0(X_test)\n",
        "print(f'\\nweight: ({weight},{model_0.state_dict()[\"weights\"]})   ||   Bias: {bias},{model_0.state_dict()[\"bias\"]})\\n\\n')\n",
        "plot_predictions(predictions=y_preds_new)"
      ],
      "metadata": {
        "id": "tModH0vE7W0c",
        "colab": {
          "base_uri": "https://localhost:8080/",
          "height": 596
        },
        "outputId": "34a1b707-7bed-4928-91e7-7ca0b7e33818"
      },
      "execution_count": null,
      "outputs": [
        {
          "output_type": "stream",
          "name": "stdout",
          "text": [
            "\n",
            "weight: (0.7,tensor([0.3002]))   ||   Bias: 0.3,tensor([0.4678]))\n",
            "\n",
            "\n"
          ]
        },
        {
          "output_type": "display_data",
          "data": {
            "text/plain": [
              "<Figure size 1000x700 with 1 Axes>"
            ],
            "image/png": "[encoded data removed]"
          },
          "metadata": {}
        }
      ]
    },
    {
      "cell_type": "markdown",
      "source": [
        "### Saving a Model in Pytorch\n",
        "\n"
      ],
      "metadata": {
        "id": "Y9tgSqMJe1JA"
      }
    },
    {
      "cell_type": "code",
      "source": [
        "model_0.state_dict()"
      ],
      "metadata": {
        "colab": {
          "base_uri": "https://localhost:8080/"
        },
        "id": "E-Ub_47Ue002",
        "outputId": "15c57519-3cc1-4c15-87d3-6a9a48b31fae"
      },
      "execution_count": null,
      "outputs": [
        {
          "output_type": "execute_result",
          "data": {
            "text/plain": [
              "OrderedDict([('weights', tensor([0.3002])), ('bias', tensor([0.4678]))])"
            ]
          },
          "metadata": {},
          "execution_count": 21
        }
      ]
    },
    {
      "cell_type": "code",
      "source": [
        "#Saving our PyTorch Model\n",
        "\n",
        "from pathlib import Path\n",
        "\n",
        "# 1.- Create module directory\n",
        "MODEL_PATH = Path('models')\n",
        "MODEL_PATH.mkdir(parents=True, exist_ok=True)\n",
        "\n",
        "# 2.- Create model save path\n",
        "MODEL_NAME = '01_pytorch_workflow_model.pth'\n",
        "MODEL_SAVE_PATH = MODEL_PATH / MODEL_NAME\n",
        "\n",
        "MODEL_SAVE_PATH\n",
        "\n",
        "# 3.- SAve the model state dict\n",
        "print(f'Saving model to: {MODEL_SAVE_PATH}')\n",
        "torch.save(obj=model_0.state_dict(),\n",
        "           f=MODEL_SAVE_PATH)"
      ],
      "metadata": {
        "id": "iW63lKmR23rC",
        "colab": {
          "base_uri": "https://localhost:8080/"
        },
        "outputId": "37f79167-3ace-425d-e264-44773df9f57a"
      },
      "execution_count": null,
      "outputs": [
        {
          "output_type": "stream",
          "name": "stdout",
          "text": [
            "Saving model to: models/01_pytorch_workflow_model.pth\n"
          ]
        }
      ]
    },
    {
      "cell_type": "code",
      "source": [
        "!ls -l models"
      ],
      "metadata": {
        "colab": {
          "base_uri": "https://localhost:8080/"
        },
        "id": "ty55L-vOgUNq",
        "outputId": "4755ecbd-3ca4-493b-f669-57536e4475e5"
      },
      "execution_count": null,
      "outputs": [
        {
          "output_type": "stream",
          "name": "stdout",
          "text": [
            "total 4\n",
            "-rw-r--r-- 1 root root 1668 Feb 18 19:24 01_pytorch_workflow_model.pth\n"
          ]
        }
      ]
    },
    {
      "cell_type": "markdown",
      "source": [
        "### Loading a Pytorch model"
      ],
      "metadata": {
        "id": "VwPfFBcXiGKi"
      }
    },
    {
      "cell_type": "code",
      "source": [
        "#To load in a saved state_dict() we hae to instantiate a new instance of our model class\n",
        "\n",
        "loaded_model_0 = LinearRegressionModel()\n",
        "\n",
        "# Load the saved state_dict() of a model_0\n",
        "\n",
        "loaded_model_0.load_state_dict(torch.load(f=MODEL_SAVE_PATH))\n",
        "loaded_model_0.state_dict()"
      ],
      "metadata": {
        "colab": {
          "base_uri": "https://localhost:8080/"
        },
        "id": "iqEtrKKRgUK2",
        "outputId": "3d57c81e-6561-42dd-f53b-1620dd3a96e0"
      },
      "execution_count": null,
      "outputs": [
        {
          "output_type": "stream",
          "name": "stderr",
          "text": [
            "<ipython-input-27-7033ac286859>:7: FutureWarning: You are using `torch.load` with `weights_only=False` (the current default value), which uses the default pickle module implicitly. It is possible to construct malicious pickle data which will execute arbitrary code during unpickling (See https://github.com/pytorch/pytorch/blob/main/SECURITY.md#untrusted-models for more details). In a future release, the default value for `weights_only` will be flipped to `True`. This limits the functions that could be executed during unpickling. Arbitrary objects will no longer be allowed to be loaded via this mode unless they are explicitly allowlisted by the user via `torch.serialization.add_safe_globals`. We recommend you start setting `weights_only=True` for any use case where you don't have full control of the loaded file. Please open an issue on GitHub for any issues related to this experimental feature.\n",
            "  loaded_model_0.load_state_dict(torch.load(f=MODEL_SAVE_PATH))\n"
          ]
        },
        {
          "output_type": "execute_result",
          "data": {
            "text/plain": [
              "OrderedDict([('weights', tensor([0.3002])), ('bias', tensor([0.4678]))])"
            ]
          },
          "metadata": {},
          "execution_count": 27
        }
      ]
    },
    {
      "cell_type": "code",
      "source": [
        "#Make some predictions with our loaded model\n",
        "loaded_model_0.eval()\n",
        "with torch.inference_mode():\n",
        "  loaded_model_preds = loaded_model_0(X_test)\n",
        "loaded_model_preds"
      ],
      "metadata": {
        "colab": {
          "base_uri": "https://localhost:8080/"
        },
        "id": "7C1E8N0ejCX2",
        "outputId": "25a9151f-912e-44be-c205-a43451640868"
      },
      "execution_count": null,
      "outputs": [
        {
          "output_type": "execute_result",
          "data": {
            "text/plain": [
              "tensor([[0.7079],\n",
              "        [0.7139],\n",
              "        [0.7199],\n",
              "        [0.7259],\n",
              "        [0.7319],\n",
              "        [0.7379],\n",
              "        [0.7439],\n",
              "        [0.7499],\n",
              "        [0.7559],\n",
              "        [0.7619]])"
            ]
          },
          "metadata": {},
          "execution_count": 28
        }
      ]
    }
  ]
}