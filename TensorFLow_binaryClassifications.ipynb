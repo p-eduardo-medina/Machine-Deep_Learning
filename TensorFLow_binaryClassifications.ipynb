{
  "nbformat": 4,
  "nbformat_minor": 0,
  "metadata": {
    "colab": {
      "provenance": [],
      "authorship_tag": "ABX9TyOvMvQEt5F4pxfhNFJ8USKz"
    },
    "kernelspec": {
      "name": "python3",
      "display_name": "Python 3"
    },
    "language_info": {
      "name": "python"
    }
  },
  "cells": [
    {
      "cell_type": "markdown",
      "source": [
        "*   Created by: Eduardo Medina\n",
        "*   Date: 2025-12-03\n",
        "*   Binary Classifications."
      ],
      "metadata": {
        "id": "uyEmUK8rXiVZ"
      }
    },
    {
      "cell_type": "code",
      "execution_count": null,
      "metadata": {
        "id": "LxlKoTMFXdnz"
      },
      "outputs": [],
      "source": []
    }
  ]
}